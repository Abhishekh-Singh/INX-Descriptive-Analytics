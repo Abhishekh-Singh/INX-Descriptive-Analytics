{
 "cells": [
  {
   "cell_type": "code",
   "execution_count": null,
   "metadata": {},
   "outputs": [],
   "source": [
    "import pandas as pd\n",
    "import numpy as np\n",
    "import matplotlib.pyplot as plt\n",
    "from scipy.stats import skew\n",
    "from scipy.stats import kurtosis\n",
    "import seaborn as sns\n",
    "import plotly.express as px"
   ]
  },
  {
   "cell_type": "code",
   "execution_count": null,
   "metadata": {},
   "outputs": [],
   "source": [
    "data = pd.read_excel(r\"E:\\Books and Material\\bepec\\project data science\\Data\\INX_Future_Inc_Employee_Performance_CDS_Project2_Data_V1.8.xls\")"
   ]
  },
  {
   "cell_type": "code",
   "execution_count": null,
   "metadata": {},
   "outputs": [],
   "source": [
    "data.head()"
   ]
  },
  {
   "cell_type": "code",
   "execution_count": null,
   "metadata": {},
   "outputs": [],
   "source": [
    "data.describe()"
   ]
  },
  {
   "cell_type": "code",
   "execution_count": null,
   "metadata": {},
   "outputs": [],
   "source": [
    "data.nunique()\n"
   ]
  },
  {
   "cell_type": "code",
   "execution_count": null,
   "metadata": {},
   "outputs": [],
   "source": [
    "data['Age'].describe()"
   ]
  },
  {
   "cell_type": "code",
   "execution_count": null,
   "metadata": {},
   "outputs": [],
   "source": [
    "# Here we use a column with categorical data\n",
    "fig = px.histogram(data, x=\"Age\", color= 'PerformanceRating')\n",
    "fig.show()"
   ]
  },
  {
   "cell_type": "code",
   "execution_count": null,
   "metadata": {},
   "outputs": [],
   "source": [
    "fig = px.box(data, y='Age',color='PerformanceRating')\n",
    "fig.show()"
   ]
  },
  {
   "cell_type": "code",
   "execution_count": null,
   "metadata": {},
   "outputs": [],
   "source": [
    "# plt.figure(figsize=(10,8))\n",
    "# sns.kdeplot(data=data, x=\"Age\", hue=\"PerformanceRating\", multiple=\"stack\")"
   ]
  },
  {
   "cell_type": "code",
   "execution_count": null,
   "metadata": {},
   "outputs": [],
   "source": [
    "sns.countplot(data['PerformanceRating'])\n",
    "data['PerformanceRating'].value_counts()"
   ]
  },
  {
   "cell_type": "code",
   "execution_count": null,
   "metadata": {},
   "outputs": [],
   "source": [
    "fig = px.pie(data, values='Age', names='PerformanceRating')\n",
    "fig.show()\n"
   ]
  },
  {
   "cell_type": "code",
   "execution_count": null,
   "metadata": {},
   "outputs": [],
   "source": [
    "# around 194 employees are not performing properly"
   ]
  },
  {
   "cell_type": "code",
   "execution_count": null,
   "metadata": {},
   "outputs": [],
   "source": [
    "df_p2 = data[data['PerformanceRating']==2]\n",
    "print(df_p2.shape)"
   ]
  },
  {
   "cell_type": "code",
   "execution_count": null,
   "metadata": {},
   "outputs": [],
   "source": [
    "fig = px.histogram(df_p2, x='Age')\n",
    "fig.show()"
   ]
  },
  {
   "cell_type": "code",
   "execution_count": null,
   "metadata": {},
   "outputs": [],
   "source": [
    "# Age for performance rating 2\n",
    "# total of 194 employee are not working properly based on the given data set\n",
    "# 39 people are between 20-29\n",
    "# 108 people are between 30-44\n",
    "# 36 people are between 45-54\n",
    "# 11 people are between 55-59"
   ]
  },
  {
   "cell_type": "code",
   "execution_count": null,
   "metadata": {},
   "outputs": [],
   "source": [
    "df_p2['Age'].describe()"
   ]
  },
  {
   "cell_type": "code",
   "execution_count": null,
   "metadata": {},
   "outputs": [],
   "source": [
    "fig = px.box(df_p2, y='Age')\n",
    "fig.show()"
   ]
  },
  {
   "cell_type": "code",
   "execution_count": null,
   "metadata": {},
   "outputs": [],
   "source": [
    "df_p2['EmpDepartment'].value_counts()"
   ]
  },
  {
   "cell_type": "code",
   "execution_count": null,
   "metadata": {},
   "outputs": [],
   "source": [
    "fig = px.box(df_p2, x='EmpDepartment', y='Age')\n",
    "fig.show()"
   ]
  },
  {
   "cell_type": "code",
   "execution_count": null,
   "metadata": {},
   "outputs": [],
   "source": [
    "# 87 Sales employees are not working\n",
    "# 68 Research & Development   \n",
    "# 15 Finance                   \n",
    "# 13 Development              \n",
    "# 10 Human Resources          \n",
    "# 1 Data Science           "
   ]
  },
  {
   "cell_type": "code",
   "execution_count": null,
   "metadata": {},
   "outputs": [],
   "source": [
    "# plt.figure(figsize=(10,8))\n",
    "# sns.kdeplot(data=df_p2, x=\"Age\", hue=\"EmpDepartment\", multiple=\"stack\")"
   ]
  },
  {
   "cell_type": "code",
   "execution_count": null,
   "metadata": {
    "scrolled": false
   },
   "outputs": [],
   "source": [
    "print(df_p2['EmpJobRole'].value_counts())\n",
    "fig = px.box(df_p2, x='EmpJobRole', y='Age')\n",
    "fig.show()\n"
   ]
  },
  {
   "cell_type": "code",
   "execution_count": null,
   "metadata": {
    "scrolled": true
   },
   "outputs": [],
   "source": [
    "# plt.figure(figsize=(10,8))\n",
    "# sns.kdeplot(data=df_p2, x=\"Age\", hue=\"EmpJobRole\", multiple=\"stack\")"
   ]
  },
  {
   "cell_type": "code",
   "execution_count": null,
   "metadata": {},
   "outputs": [],
   "source": [
    "fig = px.sunburst(data, path=['PerformanceRating', 'EmpDepartment', 'EmpJobRole'])\n",
    "fig.show()"
   ]
  },
  {
   "cell_type": "code",
   "execution_count": null,
   "metadata": {},
   "outputs": [],
   "source": [
    "# 64 Sales Executive are not working \n",
    "# 17 Manager R&D                 \n",
    "# 17 Research Scientist           \n",
    "# 15 Finance Manager              \n",
    "# 14 Laboratory Technician        \n",
    "# 12 Manager                      \n",
    "# 12 Sales Representative         \n",
    "# 9 Human Resources              \n",
    "# 8 Healthcare Representative     \n",
    "# 6 Developer                     \n",
    "# 6 Senior Developer              \n",
    "# 5 Research Director             \n",
    "# 4 Senior Manager R&D            \n",
    "# 3 Manufacturing Director        \n",
    "# 1 Technical Lead                \n",
    "# 1 Data Scientist                "
   ]
  },
  {
   "cell_type": "code",
   "execution_count": null,
   "metadata": {},
   "outputs": [],
   "source": [
    "fig = px.sunburst(df_p2, path=['PerformanceRating', 'Gender','EmpDepartment', 'EmpJobRole'])\n",
    "fig.show()"
   ]
  },
  {
   "cell_type": "code",
   "execution_count": null,
   "metadata": {
    "scrolled": true
   },
   "outputs": [],
   "source": [
    "df_p2.loc[df_p2['Gender'] == 'Male', 'EmpJobRole'].value_counts()"
   ]
  },
  {
   "cell_type": "code",
   "execution_count": null,
   "metadata": {},
   "outputs": [],
   "source": [
    "df_p2.loc[df_p2['Gender'] == 'Female', 'EmpJobRole'].value_counts()"
   ]
  },
  {
   "cell_type": "code",
   "execution_count": null,
   "metadata": {},
   "outputs": [],
   "source": [
    "#compared to female sales employees male sales employees are not working properly\n",
    "# Male employee not working properly with empjobrole >5\n",
    "# Sales Executive              35\n",
    "# Manager R&D                  14\n",
    "# Research Scientist           10\n",
    "# Laboratory Technician         9\n",
    "# Finance Manager               8\n",
    "# Human Resources               8\n",
    "# Sales Representative          7\n",
    "# Healthcare Representative     6\n",
    "# Manager                       6\n",
    "# Developer                     5\n",
    "# FeMale employee with empjobrole\n",
    "# Sales Executive              29\n",
    "# Finance Manager               7\n",
    "# Research Scientist            7\n",
    "# Manager                       6\n",
    "# Laboratory Technician         5\n",
    "# Sales Representative          5"
   ]
  },
  {
   "cell_type": "code",
   "execution_count": null,
   "metadata": {},
   "outputs": [],
   "source": [
    "fig = px.sunburst(df_p2, path=['PerformanceRating', 'Gender','MaritalStatus','EmpDepartment', 'EmpJobRole'])\n",
    "fig.show()"
   ]
  },
  {
   "cell_type": "code",
   "execution_count": null,
   "metadata": {},
   "outputs": [],
   "source": [
    "plt.figure(figsize=(10,8))\n",
    "# sns.set_them(style=\"darkgrid\", palette='dark')\n",
    "sns.lineplot(x=data[\"PerformanceRating\"], y=data[\"DistanceFromHome\"], )\n",
    "plt.show()"
   ]
  },
  {
   "cell_type": "code",
   "execution_count": null,
   "metadata": {},
   "outputs": [],
   "source": [
    "#From above plot its kind of negitive correlation ex: performance rating increases when the distancefromhome decreases"
   ]
  },
  {
   "cell_type": "code",
   "execution_count": null,
   "metadata": {},
   "outputs": [],
   "source": [
    "df_p2.loc[df_p2['DistanceFromHome']>8 , 'EmpDepartment'].value_counts()"
   ]
  },
  {
   "cell_type": "code",
   "execution_count": null,
   "metadata": {},
   "outputs": [],
   "source": [
    "pd.pivot_table(df_p2, values=['DistanceFromHome'], index=['Gender', 'EmpDepartment', 'EmpJobRole'], aggfunc='count')\n"
   ]
  },
  {
   "cell_type": "code",
   "execution_count": null,
   "metadata": {},
   "outputs": [],
   "source": [
    "fig = px.box(df_p2, x='EmpDepartment', y='DistanceFromHome')\n",
    "fig.show()\n",
    "fig = px.box(df_p2, x='EmpJobRole', y='DistanceFromHome')\n",
    "fig.show() "
   ]
  },
  {
   "cell_type": "code",
   "execution_count": null,
   "metadata": {},
   "outputs": [],
   "source": [
    "df_p2.columns"
   ]
  },
  {
   "cell_type": "code",
   "execution_count": null,
   "metadata": {},
   "outputs": [],
   "source": [
    "plt.figure(figsize=(10,8))\n",
    "sns.lineplot(x=data[\"PerformanceRating\"], y=data[\"EmpJobSatisfaction\"])\n",
    "plt.show()"
   ]
  },
  {
   "cell_type": "code",
   "execution_count": null,
   "metadata": {},
   "outputs": [],
   "source": [
    "fig = px.histogram(data, x='EmpLastSalaryHikePercent', color='PerformanceRating')\n",
    "fig.show()"
   ]
  },
  {
   "cell_type": "code",
   "execution_count": null,
   "metadata": {},
   "outputs": [],
   "source": [
    "plt.figure(figsize=(10,8))\n",
    "sns.lineplot(x=data[\"PerformanceRating\"], y=data[\"EmpLastSalaryHikePercent\"])\n",
    "plt.show()"
   ]
  },
  {
   "cell_type": "code",
   "execution_count": null,
   "metadata": {},
   "outputs": [],
   "source": [
    "sns.catplot(y='YearsWithCurrManager', col='PerformanceRating', data= data, kind='count')"
   ]
  },
  {
   "cell_type": "code",
   "execution_count": null,
   "metadata": {},
   "outputs": [],
   "source": [
    "plt.figure(figsize=(10,8))\n",
    "sns.lineplot(x=data[\"PerformanceRating\"], y=data[\"YearsWithCurrManager\"])\n",
    "plt.show()"
   ]
  },
  {
   "cell_type": "code",
   "execution_count": null,
   "metadata": {},
   "outputs": [],
   "source": [
    "plt.figure(figsize=(10,8))\n",
    "sns.lineplot(x=data[\"PerformanceRating\"], y=data['YearsSinceLastPromotion'])\n",
    "plt.show()\n",
    "sns.catplot(y='YearsSinceLastPromotion', col='PerformanceRating', data= data, kind='count')"
   ]
  },
  {
   "cell_type": "code",
   "execution_count": null,
   "metadata": {},
   "outputs": [],
   "source": []
  }
 ],
 "metadata": {
  "kernelspec": {
   "display_name": "Python 3 (ipykernel)",
   "language": "python",
   "name": "python3"
  },
  "language_info": {
   "codemirror_mode": {
    "name": "ipython",
    "version": 3
   },
   "file_extension": ".py",
   "mimetype": "text/x-python",
   "name": "python",
   "nbconvert_exporter": "python",
   "pygments_lexer": "ipython3",
   "version": "3.7.6"
  },
  "toc": {
   "base_numbering": 1,
   "nav_menu": {},
   "number_sections": true,
   "sideBar": true,
   "skip_h1_title": false,
   "title_cell": "Table of Contents",
   "title_sidebar": "Contents",
   "toc_cell": false,
   "toc_position": {},
   "toc_section_display": true,
   "toc_window_display": false
  }
 },
 "nbformat": 4,
 "nbformat_minor": 4
}
